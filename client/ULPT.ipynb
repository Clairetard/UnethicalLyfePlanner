{
 "cells": [
  {
   "cell_type": "code",
   "execution_count": 23,
   "metadata": {},
   "outputs": [
    {
     "name": "stdout",
     "output_type": "stream",
     "text": [
      "[\"Don't ask your girl where she wants to eat. Instead, tell her to guess where you're taking her to eat. Then take her to the first guess\", 'If your college website uses \\'TurnItIn\\' to check for plagiarism, simply add \"quotes\" at the beggining and end of your entire paper in white font and it will interpret this as one long citation, giving you a 0% match.', 'Working the last shift at a restaurant? Have a friend call in an order for pickup and not show up, then just take your free food home.', \"Save your dead light bulbs; whenever you are at a hotel, swap your bulbs for your room's bulbs\", \"If your man asks you to guess where he's taking you to eat, guess the most expensive place you've ever wanted to eat.\", 'Need some money? Over the legal alcohol purchasing age? Go to a high school party and offer to buy booze. Collect money from all the kids and never come back', 'If you’re a guy and your wife/girlfriend is super mad at you for something you didn’t know you did, go through the kitchen and tighten up every jar lid in the house.', 'Never use the toilet during your lunch break. Always get paid to shit. ALWAYS.', 'Always let speeders pass you while on the highway. That way, they get pulled over for speeding while you can continue to smoke weed in peace.', 'Flying with a fussy child? Strap a helmet on your kid and everyone will think your child is Special Needs and be very tolerant of their crying.', 'If you’re a bigger girl under 21, use a thinner girl’s ID to get into the bars. The bouncers will feel too uncomfortable to question if it’s you.', 'If you tell people you have never smoked marijuana before, many of them will smoke you out for free.', 'Start every phone call with \"my phone is just about out of battery\" that way you can hang up on them when you get bored.', 'when booking your honeymoon, ask for a handicapped hotel room. You\\'ll have a sex seat built into your shower and a variety of convenient bars designed to support human weight to assist in your \"honeymooning\"', \"Trying to find your perfect partner? Just tell the police someone robbed you, and when they ask for a description just describe exactly the sort of person you find most attractive - they'll get a bunch of them in a line up for you!\", \"When you stay in a hotel room and there is a Bible, open the Bible and flip through the pages, sometimes Christians leave cash for each other as a 'pay-it-forward', but you get free money whatever your beliefs $$$\", 'If you’re bothered by a person in a movie theater who is on their cellphone, go tell a staff member you saw that person recording the movie on their phone.', \"Buy an item at an electronics store. Open it. Return said item. Check back in a day to see if it's on the 'open box' table. Buy it again, this time for 30% off.\", 'Stuck sitting next to loud, annoying children on a plane? Whisper to the flight attendant “Legally speaking, I’m not supposed to be this close to children.” They might have a bad view of you for the rest of the flight, but you will be moved.', 'When robbing a store or someone apply temporary tattoos ahead of time. The cops will ask for visual identifiers of the criminal which will mean they will look for someone with the \"star tattoo on his right hand\".', \"If a relative keeps asking you about having kids, lie that the wife is pregnant. A few months later, tell them there was a miscarriage so they'll feel uncomfortable bringing up the subject again.\", 'ULPT - If you are ever shopping in a supermarket and a kid bites you, be load and swear a lot, if the parent comes over to you angry for upsetting their kid, claim that he bit you and that you are HIV positive. This will traumatise the parent and make them be more responsible with their kid.', 'If you\\'re in the middle of an intense argument or if someone is yelling directly in your face, respond with \"FIRST OF ALL, BRUSH YOUR TEETH\". It\\'ll absolutely destroy their self confidence and you\\'ll win the argument/fight by default.', \"Ask for half of X meat, and half of Y meat at Chipotle for free double meat. Most of the time they won't actually measure out scoops and just give you full scoops of both. Only time this seems to not work is if the employee is new and hasn't realized they don't get paid enough to care.\", 'Want to know which one of your girlfriend’s friends you have a shot with? Tell her you cheated on her with one of her friends. The first one she mentions would be your best shot.']\n"
     ]
    }
   ],
   "source": [
    "\n"
   ]
  }
 ],
 "metadata": {
  "kernelspec": {
   "display_name": "Python 3",
   "language": "python",
   "name": "python3"
  },
  "language_info": {
   "codemirror_mode": {
    "name": "ipython",
    "version": 3
   },
   "file_extension": ".py",
   "mimetype": "text/x-python",
   "name": "python",
   "nbconvert_exporter": "python",
   "pygments_lexer": "ipython3",
   "version": "3.6.4"
  }
 },
 "nbformat": 4,
 "nbformat_minor": 2
}
