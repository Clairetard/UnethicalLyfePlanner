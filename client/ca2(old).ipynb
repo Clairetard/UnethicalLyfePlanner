{
 "cells": [
  {
   "cell_type": "code",
   "execution_count": 2,
   "metadata": {},
   "outputs": [],
   "source": [
    "import pymongo\n",
    "from pymongo import MongoClient\n",
    "\n",
    "import pandas as pd\n",
    "\n",
    "from bokeh.layouts import row\n",
    "from bokeh.plotting import figure, show, output_file\n",
    "\n",
    "import numpy as np"
   ]
  },
  {
   "cell_type": "markdown",
   "metadata": {},
   "source": [
    "### mongo stuff"
   ]
  },
  {
   "cell_type": "code",
   "execution_count": 5,
   "metadata": {},
   "outputs": [],
   "source": [
    "conn=MongoClient('mongodb://localhost:27017')\n",
    "db=conn.local\n",
    "collection=db.compensation_by_industry\n",
    "col_grad_employment=db.graduates_employments\n",
    "col_ULPT=db.ULPT"
   ]
  },
  {
   "cell_type": "markdown",
   "metadata": {},
   "source": [
    "#### load stuff"
   ]
  },
  {
   "cell_type": "code",
   "execution_count": null,
   "metadata": {},
   "outputs": [],
   "source": [
    "df=pd.read_csv(\"dataset/compensation-of-employees-by-industry-at-current-prices-annual.csv\")\n",
    "df=df.drop(['level_1'],axis=1)\n",
    "df.rename(columns={'level_2':'industry','value':'compensation'}, inplace=True)\n",
    "# print(df.to_dict('records'))\n",
    "collection.insert_many(df.to_dict('records'))\n"
   ]
  },
  {
   "cell_type": "code",
   "execution_count": null,
   "metadata": {},
   "outputs": [],
   "source": [
    "df2=pd.read_csv(\"dataset/graduate-employment-survey-ntu-nus-sit-smu-sutd.csv\",encoding = \"ISO-8859-1\")\n",
    "# print(df2)\n",
    "col_grad_employment.insert_many(df2.to_dict('records'))"
   ]
  },
  {
   "cell_type": "code",
   "execution_count": 6,
   "metadata": {},
   "outputs": [
    {
     "name": "stdout",
     "output_type": "stream",
     "text": [
      "[{'ulpt': \"Don't ask your girl where she wants to eat. Instead, tell her to guess where you're taking her to eat. Then take her to the first guess\"}, {'ulpt': 'If your college website uses \\'TurnItIn\\' to check for plagiarism, simply add \"quotes\" at the beggining and end of your entire paper in white font and it will interpret this as one long citation, giving you a 0% match.'}, {'ulpt': 'Working the last shift at a restaurant? Have a friend call in an order for pickup and not show up, then just take your free food home.'}, {'ulpt': \"Save your dead light bulbs; whenever you are at a hotel, swap your bulbs for your room's bulbs\"}, {'ulpt': \"If your man asks you to guess where he's taking you to eat, guess the most expensive place you've ever wanted to eat.\"}, {'ulpt': 'Need some money? Over the legal alcohol purchasing age? Go to a high school party and offer to buy booze. Collect money from all the kids and never come back'}, {'ulpt': 'If you’re a guy and your wife/girlfriend is super mad at you for something you didn’t know you did, go through the kitchen and tighten up every jar lid in the house.'}, {'ulpt': 'Never use the toilet during your lunch break. Always get paid to shit. ALWAYS.'}, {'ulpt': 'Always let speeders pass you while on the highway. That way, they get pulled over for speeding while you can continue to smoke weed in peace.'}, {'ulpt': 'Flying with a fussy child? Strap a helmet on your kid and everyone will think your child is Special Needs and be very tolerant of their crying.'}, {'ulpt': 'If you’re a bigger girl under 21, use a thinner girl’s ID to get into the bars. The bouncers will feel too uncomfortable to question if it’s you.'}, {'ulpt': 'If you tell people you have never smoked marijuana before, many of them will smoke you out for free.'}, {'ulpt': 'Start every phone call with \"my phone is just about out of battery\" that way you can hang up on them when you get bored.'}, {'ulpt': 'when booking your honeymoon, ask for a handicapped hotel room. You\\'ll have a sex seat built into your shower and a variety of convenient bars designed to support human weight to assist in your \"honeymooning\"'}, {'ulpt': \"Trying to find your perfect partner? Just tell the police someone robbed you, and when they ask for a description just describe exactly the sort of person you find most attractive - they'll get a bunch of them in a line up for you!\"}, {'ulpt': \"When you stay in a hotel room and there is a Bible, open the Bible and flip through the pages, sometimes Christians leave cash for each other as a 'pay-it-forward', but you get free money whatever your beliefs $$$\"}, {'ulpt': 'If you’re bothered by a person in a movie theater who is on their cellphone, go tell a staff member you saw that person recording the movie on their phone.'}, {'ulpt': \"Buy an item at an electronics store. Open it. Return said item. Check back in a day to see if it's on the 'open box' table. Buy it again, this time for 30% off.\"}, {'ulpt': 'Stuck sitting next to loud, annoying children on a plane? Whisper to the flight attendant “Legally speaking, I’m not supposed to be this close to children.” They might have a bad view of you for the rest of the flight, but you will be moved.'}, {'ulpt': 'When robbing a store or someone apply temporary tattoos ahead of time. The cops will ask for visual identifiers of the criminal which will mean they will look for someone with the \"star tattoo on his right hand\".'}, {'ulpt': \"If a relative keeps asking you about having kids, lie that the wife is pregnant. A few months later, tell them there was a miscarriage so they'll feel uncomfortable bringing up the subject again.\"}, {'ulpt': 'ULPT - If you are ever shopping in a supermarket and a kid bites you, be load and swear a lot, if the parent comes over to you angry for upsetting their kid, claim that he bit you and that you are HIV positive. This will traumatise the parent and make them be more responsible with their kid.'}, {'ulpt': 'If you\\'re in the middle of an intense argument or if someone is yelling directly in your face, respond with \"FIRST OF ALL, BRUSH YOUR TEETH\". It\\'ll absolutely destroy their self confidence and you\\'ll win the argument/fight by default.'}, {'ulpt': \"Ask for half of X meat, and half of Y meat at Chipotle for free double meat. Most of the time they won't actually measure out scoops and just give you full scoops of both. Only time this seems to not work is if the employee is new and hasn't realized they don't get paid enough to care.\"}, {'ulpt': 'Want to know which one of your girlfriend’s friends you have a shot with? Tell her you cheated on her with one of her friends. The first one she mentions would be your best shot.'}]\n"
     ]
    },
    {
     "data": {
      "text/plain": [
       "<pymongo.results.InsertManyResult at 0x1b0a76824c8>"
      ]
     },
     "execution_count": 6,
     "metadata": {},
     "output_type": "execute_result"
    }
   ],
   "source": [
    "from bs4 import BeautifulSoup as bs\n",
    "import requests\n",
    "\n",
    "url=\"https://www.reddit.com/r/UnethicalLifeProTips/top/?t=all\"\n",
    "headers = {\n",
    "    'User-Agent': 'Mozilla/5.0 (Windows NT 10.0; Win64; x64) AppleWebKit/537.36 (KHTML, like Gecko) Chrome/60.0.3112.113 Safari/537.36'\n",
    "}\n",
    "\n",
    "response=requests.get(url,headers=headers)\n",
    "content = response.text\n",
    "# print(content)\n",
    "soup=bs(content,\"html.parser\")\n",
    "\n",
    "r=soup.find_all('h2',\"fiq55l-0 kXfnwz\")\n",
    "ulpt= [R.text.strip() for R in r]\n",
    "ulpt=[{\"ulpt\": R.replace(\"ULPT: \",\"\")} for R in ulpt]\n",
    "print (ulpt)\n",
    "\n",
    "col_ULPT.insert_many(ulpt)"
   ]
  },
  {
   "cell_type": "markdown",
   "metadata": {},
   "source": [
    "trying bokeh (nahhhhhhhhhhh)"
   ]
  },
  {
   "cell_type": "code",
   "execution_count": null,
   "metadata": {},
   "outputs": [],
   "source": [
    "from bokeh.palettes import YlGnBu,brewer\n",
    "import pygal\n",
    "\n",
    "with conn as client:\n",
    "    df_compensation_industry=pd.DataFrame(list(collection.find()))\n",
    "df_compensation_industry=df_compensation_industry.drop(['_id'],axis=1)\n",
    "print(df_compensation_industry.info())\n",
    "\n",
    "\n",
    "x=df_compensation_industry.year.unique()\n",
    "xRange=np.char.mod('%d',x)\n",
    "yRange=df_compensation_industry.industry.unique()\n",
    "yRange=np.array(yRange)\n",
    "\n",
    "data=df_compensation_industry.to_dict('records')\n",
    "# print(data)\n",
    "\n",
    "output_file(\"graph1.html\")\n",
    "TOOLS = \"pan,wheel_zoom,box_zoom,reset,save,box_select\"\n",
    "plt1=figure(plot_width=500, plot_height=500,tools=TOOLS)\n",
    "plt1.title.text=\"Compensation of Industry by Year\"\n",
    "\n",
    "for key,color in zip(yRange,brewer['Spectral'][yRange.size]):\n",
    "    y= df_compensation_industry[:][df_compensation_industry.industry==key].compensation\n",
    "    plt1.line(x,y,line_width=2,color=color,legend=key)\n",
    "    \n",
    "plt1.legend.location = \"top_left\"\n",
    "plt1.legend.click_policy=\"hide\"\n",
    "\n",
    "\n",
    "show(plt1)"
   ]
  },
  {
   "cell_type": "code",
   "execution_count": null,
   "metadata": {},
   "outputs": [],
   "source": []
  }
 ],
 "metadata": {
  "kernelspec": {
   "display_name": "Python 3",
   "language": "python",
   "name": "python3"
  },
  "language_info": {
   "codemirror_mode": {
    "name": "ipython",
    "version": 3
   },
   "file_extension": ".py",
   "mimetype": "text/x-python",
   "name": "python",
   "nbconvert_exporter": "python",
   "pygments_lexer": "ipython3",
   "version": "3.6.4"
  }
 },
 "nbformat": 4,
 "nbformat_minor": 2
}
